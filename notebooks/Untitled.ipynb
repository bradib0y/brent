{
 "cells": [
  {
   "cell_type": "code",
   "execution_count": 1,
   "metadata": {},
   "outputs": [],
   "source": [
    "%load_ext autoreload\n",
    "%autoreload 2 "
   ]
  },
  {
   "cell_type": "code",
   "execution_count": 2,
   "metadata": {},
   "outputs": [],
   "source": [
    "import pandas as pd\n",
    "import networkx as nx\n",
    "import matplotlib.pylab as plt\n",
    "from dagger.graph import DAG, _calc_prior_discrete, _nodes_to_handle, _group_probs"
   ]
  },
  {
   "cell_type": "code",
   "execution_count": 3,
   "metadata": {},
   "outputs": [],
   "source": [
    "df = pd.DataFrame({\"a\": [1,0,1,0,1], \"b\": [1,1,1,0,0], \"c\":[0,0,1,0,1] })"
   ]
  },
  {
   "cell_type": "code",
   "execution_count": 4,
   "metadata": {},
   "outputs": [],
   "source": [
    "dag = DAG(df).add_edge(\"a\", \"b\").add_edge(\"b\", \"c\").add_edge(\"a\", \"c\")"
   ]
  },
  {
   "cell_type": "code",
   "execution_count": 5,
   "metadata": {},
   "outputs": [],
   "source": [
    "df = pd.DataFrame({\"a\": [1, 1, 1, 1, 0, 0, 0], \n",
    "                   \"b\": [0, 1, 0, 1, 0, 0, 1], \n",
    "                   \"c\": [0, 0, 1, 0, 0, 1, 0]})\n",
    "dag = DAG(df).add_edge(\"a\", \"b\").add_edge(\"c\", \"b\")"
   ]
  },
  {
   "cell_type": "code",
   "execution_count": 6,
   "metadata": {},
   "outputs": [],
   "source": [
    "def get_root_nodes(dag, nodes):\n",
    "    graph = dag.graph.copy() \n",
    "    for node in nodes: \n",
    "        graph.remove_node(node)\n",
    "    return tuple(x for x in graph.nodes() if graph.in_degree(x) == 0)\n",
    "\n",
    "def get_leaf_nodes(dag, nodes):\n",
    "    graph = dag.graph.copy()\n",
    "    for node in nodes: \n",
    "        graph.remove_node(node)\n",
    "    return tuple(x for x in graph.nodes() if graph.out_degree(x) == 0)"
   ]
  },
  {
   "cell_type": "code",
   "execution_count": 7,
   "metadata": {},
   "outputs": [],
   "source": [
    "a = set()\n",
    "a.add(\"a\")"
   ]
  },
  {
   "cell_type": "code",
   "execution_count": 8,
   "metadata": {},
   "outputs": [],
   "source": [
    "nodes_done = set()\n",
    "distributions = {}\n",
    "nodes_to_do = set(dag._priors.keys())\n",
    "prior_copy = dag._priors.copy()\n",
    "while nodes_done != set(dag.graph.nodes):\n",
    "    current_root_nodes = get_root_nodes(dag, nodes_done)\n",
    "    for node in current_root_nodes:\n",
    "        parents = list(dag.graph.predecessors(node))\n",
    "        prob_df = (df\n",
    "                   .assign(n=1)\n",
    "                   .groupby(parents + [node])\n",
    "                   .count()['n']\n",
    "                   .reset_index()\n",
    "                   .assign(p=lambda d: d.n/d.n.sum()))\n",
    "        if len(parents) != 0:\n",
    "            prob_df = prob_df.pipe(_group_probs, parents=parents)\n",
    "        else:\n",
    "            prob_df = prob_df.drop(columns=[\"n\"])\n",
    "        distributions[node] = prob_df\n",
    "        nodes_done.add(node)"
   ]
  },
  {
   "cell_type": "code",
   "execution_count": 17,
   "metadata": {},
   "outputs": [
    {
     "data": {
      "text/html": [
       "<div>\n",
       "<style scoped>\n",
       "    .dataframe tbody tr th:only-of-type {\n",
       "        vertical-align: middle;\n",
       "    }\n",
       "\n",
       "    .dataframe tbody tr th {\n",
       "        vertical-align: top;\n",
       "    }\n",
       "\n",
       "    .dataframe thead th {\n",
       "        text-align: right;\n",
       "    }\n",
       "</style>\n",
       "<table border=\"1\" class=\"dataframe\">\n",
       "  <thead>\n",
       "    <tr style=\"text-align: right;\">\n",
       "      <th></th>\n",
       "      <th>c</th>\n",
       "      <th>a</th>\n",
       "      <th>b</th>\n",
       "      <th>p</th>\n",
       "    </tr>\n",
       "  </thead>\n",
       "  <tbody>\n",
       "    <tr>\n",
       "      <th>0</th>\n",
       "      <td>0</td>\n",
       "      <td>0</td>\n",
       "      <td>0</td>\n",
       "      <td>0.153061</td>\n",
       "    </tr>\n",
       "    <tr>\n",
       "      <th>1</th>\n",
       "      <td>0</td>\n",
       "      <td>0</td>\n",
       "      <td>1</td>\n",
       "      <td>0.153061</td>\n",
       "    </tr>\n",
       "    <tr>\n",
       "      <th>2</th>\n",
       "      <td>0</td>\n",
       "      <td>1</td>\n",
       "      <td>0</td>\n",
       "      <td>0.136054</td>\n",
       "    </tr>\n",
       "    <tr>\n",
       "      <th>3</th>\n",
       "      <td>0</td>\n",
       "      <td>1</td>\n",
       "      <td>1</td>\n",
       "      <td>0.272109</td>\n",
       "    </tr>\n",
       "    <tr>\n",
       "      <th>4</th>\n",
       "      <td>1</td>\n",
       "      <td>0</td>\n",
       "      <td>0</td>\n",
       "      <td>0.122449</td>\n",
       "    </tr>\n",
       "    <tr>\n",
       "      <th>5</th>\n",
       "      <td>1</td>\n",
       "      <td>1</td>\n",
       "      <td>0</td>\n",
       "      <td>0.163265</td>\n",
       "    </tr>\n",
       "  </tbody>\n",
       "</table>\n",
       "</div>"
      ],
      "text/plain": [
       "   c  a  b         p\n",
       "0  0  0  0  0.153061\n",
       "1  0  0  1  0.153061\n",
       "2  0  1  0  0.136054\n",
       "3  0  1  1  0.272109\n",
       "4  1  0  0  0.122449\n",
       "5  1  1  0  0.163265"
      ]
     },
     "execution_count": 17,
     "metadata": {},
     "output_type": "execute_result"
    }
   ],
   "source": [
    "nodes_done = set()\n",
    "\n",
    "while nodes_done != set(dag.graph.nodes):\n",
    "    current_leaf_nodes = get_leaf_nodes(dag, nodes_done)\n",
    "    for node in current_leaf_nodes:\n",
    "        parents = list(dag.graph.predecessors(node))\n",
    "        model_df = distributions[node]\n",
    "        for p in parents:\n",
    "            model_df = merge_probs(model_df, distributions[p], p)\n",
    "            nodes_done.add(p)\n",
    "        nodes_done.add(node)\n",
    "\n",
    "model_df"
   ]
  },
  {
   "cell_type": "code",
   "execution_count": 11,
   "metadata": {},
   "outputs": [],
   "source": [
    "def normalise(x):\n",
    "    return x/x.sum()\n",
    "\n",
    "def merge_probs(frame1, frame2, col):\n",
    "    return (frame1\n",
    "             .set_index(col)\n",
    "             .join(frame2.set_index(col), lsuffix=\"1\", rsuffix=\"2\")\n",
    "             .assign(p = lambda x: normalise(x.p1 * x.p2))\n",
    "             .drop(\"p1\", axis=1)\n",
    "             .drop(\"p2\", axis=1)\n",
    "             .reset_index())"
   ]
  },
  {
   "cell_type": "code",
   "execution_count": 26,
   "metadata": {},
   "outputs": [
    {
     "data": {
      "image/png": "[encoded data removed]",
      "text/plain": [
       "<Figure size 432x288 with 1 Axes>"
      ]
     },
     "metadata": {},
     "output_type": "display_data"
    }
   ],
   "source": [
    "dag.nx_plot(node_size=1500, with_labels=True, node_color=\"white\")"
   ]
  }
 ],
 "metadata": {
  "kernelspec": {
   "display_name": "Python 3",
   "language": "python",
   "name": "python3"
  },
  "language_info": {
   "codemirror_mode": {
    "name": "ipython",
    "version": 3
   },
   "file_extension": ".py",
   "mimetype": "text/x-python",
   "name": "python",
   "nbconvert_exporter": "python",
   "pygments_lexer": "ipython3",
   "version": "3.6.6"
  }
 },
 "nbformat": 4,
 "nbformat_minor": 2
}
