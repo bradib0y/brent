{
 "cells": [
  {
   "cell_type": "code",
   "execution_count": 1,
   "metadata": {},
   "outputs": [],
   "source": [
    "import numpy as np\n",
    "import pandas as pd "
   ]
  },
  {
   "cell_type": "code",
   "execution_count": 2,
   "metadata": {},
   "outputs": [],
   "source": [
    "class RV:\n",
    "    def __init__(self, sides=6, name=None, parents=None):\n",
    "        self.name = name\n",
    "        self.parents = parents\n",
    "        self.sides = sides\n",
    "    \n",
    "    def __repr__(self):\n",
    "        return f\"<RV {self.name} with {self.sides} sides @{id(self)}>\"\n",
    "        \n",
    "    def sample(self, n=1000):\n",
    "        return np.random.randint(1, self.sides+1, n)"
   ]
  },
  {
   "cell_type": "code",
   "execution_count": 3,
   "metadata": {},
   "outputs": [
    {
     "data": {
      "text/plain": [
       "{'d1': <RV d1 with 6 sides @4693107656>,\n",
       " 'd2': <RV d2 with 4 sides @4693107824>}"
      ]
     },
     "execution_count": 3,
     "metadata": {},
     "output_type": "execute_result"
    }
   ],
   "source": [
    "class DiceBox:\n",
    "    def __init__(self, sides=6):\n",
    "        self.all_dice = {}\n",
    "    \n",
    "    def add_dice(self, **kwargs):\n",
    "        for k, v in kwargs.items():\n",
    "            self.all_dice[k] = v(self.all_dice)\n",
    "            self.all_dice[k].name = k\n",
    "        return self\n",
    "\n",
    "DiceBox().add_dice(d1=lambda d: RV(6)).add_dice(d2=lambda d: RV(4)).all_dice"
   ]
  },
  {
   "cell_type": "code",
   "execution_count": null,
   "metadata": {},
   "outputs": [],
   "source": []
  }
 ],
 "metadata": {
  "kernelspec": {
   "display_name": "Python 3",
   "language": "python",
   "name": "python3"
  },
  "language_info": {
   "codemirror_mode": {
    "name": "ipython",
    "version": 3
   },
   "file_extension": ".py",
   "mimetype": "text/x-python",
   "name": "python",
   "nbconvert_exporter": "python",
   "pygments_lexer": "ipython3",
   "version": "3.6.6"
  }
 },
 "nbformat": 4,
 "nbformat_minor": 2
}
